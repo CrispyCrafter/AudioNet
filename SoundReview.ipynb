{
 "cells": [
  {
   "cell_type": "code",
   "execution_count": null,
   "metadata": {},
   "outputs": [],
   "source": [
    "import pygame\n",
    "import os\n",
    "from time import sleep\n",
    "import subprocess\n",
    "import time\n",
    "\n",
    "path = os.getcwd()\n",
    "folder = path.split(\"/\")[-1]\n",
    "files = os.listdir()\n",
    "\n",
    "def Play(file):\n",
    "    pygame.mixer.init()\n",
    "    pygame.mixer.music.load(file)\n",
    "    pygame.mixer.music.play()\n",
    "    while pygame.mixer.music.get_busy() == True:\n",
    "        continue\n",
    "    pygame.mixer.quit()\n",
    "\n",
    "\n",
    "def Run(file):\n",
    "    print(file)\n",
    "    print()\n",
    "    if os.path.isfile(file) and file.split(\".\")[-1] == \"wav\":\n",
    "        Review(file)\n",
    "\n",
    "def Review(file):\n",
    "    Play(file)\n",
    "    test = input(\"Do you hear a \" + str(folder) + \"\\n\" + \"Select option - (Y)es/(N)o/(D)elete \" )\n",
    "    if test == \"Y\" or test ==\"y\":\n",
    "        if not os.path.isdir(folder):\n",
    "            os.mkdir(folder)\n",
    "        subprocess.run([\"mv\", str(file), str(folder) + \"/\" +str(file) ])\n",
    "        pass\n",
    "    elif test == \"d\" or test == \"D\":\n",
    "        os.remove(str(file))\n",
    "    elif test ==\"N\" or test == \"n\":\n",
    "        print(\"Making new class\")\n",
    "        newdir = input(\"Enter a category name \")\n",
    "        newdir = newdir.lower()\n",
    "        if not os.path.isdir(newdir):\n",
    "            os.mkdir(newdir)\n",
    "        subprocess.run([\"mv\", str(file), str(newdir) + \"/\" +str(file) ])\n",
    "    else:\n",
    "        print()\n",
    "        print(\"Invalid Key - try again\")\n",
    "        Review(file)"
   ]
  },
  {
   "cell_type": "code",
   "execution_count": null,
   "metadata": {},
   "outputs": [],
   "source": [
    "[Run(y) for x,y  in enumerate(files)]"
   ]
  }
 ],
 "metadata": {
  "kernelspec": {
   "display_name": "Python 3",
   "language": "python",
   "name": "python3"
  },
  "language_info": {
   "codemirror_mode": {
    "name": "ipython",
    "version": 3
   },
   "file_extension": ".py",
   "mimetype": "text/x-python",
   "name": "python",
   "nbconvert_exporter": "python",
   "pygments_lexer": "ipython3",
   "version": "3.5.2"
  }
 },
 "nbformat": 4,
 "nbformat_minor": 2
}
